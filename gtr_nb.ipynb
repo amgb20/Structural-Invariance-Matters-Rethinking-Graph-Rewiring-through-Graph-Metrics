{
 "cells": [
  {
   "cell_type": "code",
   "execution_count": 5,
   "metadata": {},
   "outputs": [],
   "source": [
    "#Python 3.11.6\n",
    "import torch\n",
    "import torch_geometric\n",
    "import torch_geometric.transforms as T\n",
    "from torch_geometric.datasets import TUDataset\n",
    "# from rewiring_files import PrecomputeGTREdges, AddPrecomputedGTREdges \n",
    "import sys\n",
    "import networkx as nx\n",
    "import pandas as pd\n",
    "from IPython.display import display\n",
    "import numpy as np\n",
    "from scipy.sparse.csgraph import laplacian\n",
    "from scipy.linalg import pinv, eigvalsh\n",
    "from scipy.stats import wasserstein_distance\n",
    "from grakel.kernels import GraphletSampling\n",
    "from grakel import Graph\n",
    "from evaluation.metrics import *\n"
   ]
  },
  {
   "cell_type": "code",
   "execution_count": 2,
   "metadata": {},
   "outputs": [],
   "source": [
    "#Author: Mitchell Black\n",
    "def gtr_nb_rewire(name):\n",
    "    # precompute 30 edges with the gtr algorithm\n",
    "    pre_transform = T.Compose([PrecomputeGTREdges(num_edges=30)])\n",
    "    # add 20 of the precomputed edges to the graph\n",
    "    transform = T.Compose([AddPrecomputedGTREdges(num_edges=20)])\n",
    "    # load the dataset\n",
    "    dataset = TUDataset(\n",
    "        root=\"/tmp/\",\n",
    "        name=name,\n",
    "        transform=transform,\n",
    "        pre_transform=pre_transform\n",
    "    )\n",
    "\n",
    "    # Check that 60 edges have been precomputed for each graph.\n",
    "    # (AddPrecomputedGTREdges adds both direction of an edge,\n",
    "    # which is why we check that 60, not 30, edges have been precomputed.)\n",
    "    if all([\n",
    "        hasattr(data, \"precomputed_gtr_edges\") and data.precomputed_gtr_edges.shape[1] == 60\n",
    "        for data in dataset\n",
    "    ]):\n",
    "        print(\"Edges succesfully precomputed!\")\n",
    "    # Load the dataset without any added edges\n",
    "    dataset_wo_edges = TUDataset(\n",
    "        root=\"/tmp/\",\n",
    "        name=name,\n",
    "        pre_transform=pre_transform\n",
    "    )\n",
    "\n",
    "    # Check that 40 edges have been added to each graph in the dataset\n",
    "    if all([ \n",
    "        (data.edge_index.shape[1]-data_wo_edges.edge_index.shape[1]) == 40\n",
    "        for data, data_wo_edges \n",
    "        in zip(dataset, dataset_wo_edges) \n",
    "    ]):\n",
    "        print(\"Edges succesfully added!\")\n",
    "\n",
    "    return dataset"
   ]
  },
  {
   "cell_type": "code",
   "execution_count": 3,
   "metadata": {},
   "outputs": [
    {
     "name": "stdout",
     "output_type": "stream",
     "text": [
      "Name of dataset: ENZYMES\n",
      "Edges succesfully precomputed!\n",
      "Edges succesfully added!\n"
     ]
    },
    {
     "name": "stderr",
     "output_type": "stream",
     "text": [
      "/Library/Frameworks/Python.framework/Versions/3.11/lib/python3.11/site-packages/networkx/algorithms/assortativity/correlation.py:302: RuntimeWarning: invalid value encountered in scalar divide\n",
      "  return float((xy * (M - ab)).sum() / np.sqrt(vara * varb))\n"
     ]
    },
    {
     "name": "stdout",
     "output_type": "stream",
     "text": [
      "Diameter: Mean: 3.535 Std Dev: 1.1469270537687506\n",
      "Effective Resistance: Mean: 0.4112668657232636 Std Dev: 0.18082309372095984\n",
      "Modularity: Mean: 0.3497999507228292 Std Dev: 0.14105036957993067\n",
      "Assortativity: Mean: -0.006547111595073569 Std Dev: 0.13440028675888047\n",
      "Clustering Coefficient: Mean: 0.256513576076219 Std Dev: 0.16055617434720795\n",
      "Spectral Gap: Mean: 0.3562393439239681 Std Dev: 0.22744718920874757\n",
      "Forman Curvature: Mean: -6.593333333333334 Std Dev: 1.9548117272230818\n",
      "Average Betweenness Centrality: Mean: 0.03761755543283413 Std Dev: 0.008519807360555659\n",
      "\n",
      "Name of dataset: MUTAG\n",
      "Edges succesfully precomputed!\n",
      "Edges succesfully added!\n",
      "Diameter: Mean: 2.8191489361702127 Std Dev: 0.5735808751790882\n",
      "Effective Resistance: Mean: 0.4225860535454092 Std Dev: 0.06086363817551866\n",
      "Modularity: Mean: 0.18065327873311493 Std Dev: 0.06627845520323654\n",
      "Assortativity: Mean: -0.1509660276248219 Std Dev: 0.1368733288089425\n",
      "Clustering Coefficient: Mean: 0.06050058575252487 Std Dev: 0.10668927304386724\n",
      "Spectral Gap: Mean: 0.5584698391902854 Std Dev: 0.12108816740664713\n",
      "Forman Curvature: Mean: -5.117021276595745 Std Dev: 1.270419456436333\n",
      "Average Betweenness Centrality: Mean: 0.05207507871167286 Std Dev: 0.0021461371602147844\n",
      "\n",
      "Name of dataset: PROTEINS\n",
      "Edges succesfully precomputed!\n",
      "Edges succesfully added!\n",
      "Diameter: Mean: 3.6028751123090745 Std Dev: 1.9856789152312817\n",
      "Effective Resistance: Mean: 0.4107255021671143 Std Dev: 0.1810573617162584\n",
      "Modularity: Mean: 0.3274880184926412 Std Dev: 0.20969129112622814\n",
      "Assortativity: Mean: -0.02317261534618218 Std Dev: 0.10362914003364442\n",
      "Clustering Coefficient: Mean: 0.3534844022922404 Std Dev: 0.27304152474036364\n",
      "Spectral Gap: Mean: 0.45088454617934925 Std Dev: 0.34562240260422794\n",
      "Forman Curvature: Mean: -6.8975741239892185 Std Dev: 2.439993859840633\n",
      "Average Betweenness Centrality: Mean: 0.03289206926497249 Std Dev: 0.014104858782642638\n",
      "\n",
      "Name of dataset: IMDB-BINARY\n",
      "Edges succesfully precomputed!\n",
      "Edges succesfully added!\n",
      "Diameter: Mean: 1.832 Std Dev: 0.37386628625753354\n",
      "Effective Resistance: Mean: 0.19495815166107872 Std Dev: 0.06556374004220353\n",
      "Modularity: Mean: 0.1510897978257716 Std Dev: 0.13387422269898844\n",
      "Assortativity: Mean: -0.08109663437637629 Std Dev: 0.101362822159073\n",
      "Clustering Coefficient: Mean: 0.7459145308206291 Std Dev: 0.1565225671808511\n",
      "Spectral Gap: Mean: 0.6637505081282573 Std Dev: 0.27448954342248033\n",
      "Forman Curvature: Mean: -19.461 Std Dev: 10.74637050357003\n",
      "Average Betweenness Centrality: Mean: 0.019303639083450334 Std Dev: 0.011608348939425106\n",
      "\n"
     ]
    }
   ],
   "source": [
    "datasets_small = [\"ENZYMES\", \"MUTAG\",\"PROTEINS\", \"IMDB-BINARY\"]\n",
    "datasets_large = [\"REDDIT-BINARY\", \"COLLAB\"]\n",
    "rewired_small = {}\n",
    "rewired_large = {}\n",
    "for dataset in datasets_small:\n",
    "    print(f\"Name of dataset: {dataset}\")\n",
    "    new_ds = gtr_nb_rewire(dataset)\n",
    "    rewired_small[dataset] = new_ds\n",
    "    get_avg_metrics(new_ds)\n",
    "    print()\n"
   ]
  },
  {
   "cell_type": "code",
   "execution_count": null,
   "metadata": {},
   "outputs": [],
   "source": [
    "#This will take a long time (75 min for RB, could not complete for COLLAB)\n",
    "for dataset in datasets_large:\n",
    "    print(f\"Name of dataset: {dataset}\")\n",
    "    new_ds = gtr_nb_rewire(dataset)\n",
    "    rewired_large[dataset] = new_ds\n",
    "    get_avg_metrics(new_ds)\n",
    "    print()"
   ]
  },
  {
   "cell_type": "code",
   "execution_count": 4,
   "metadata": {},
   "outputs": [
    {
     "name": "stdout",
     "output_type": "stream",
     "text": [
      "Comparison metrics for ENZYMES\n",
      "\n",
      "Graph Edit Distance: Mean: 19.76 Std Dev: 1.8918421357678514\n",
      "Jaccard Similarity: Mean: 0.733286779600982 Std Dev: 0.08948155704355801\n",
      "Laplacian Spectrum Distance: Mean: 7.841891656031461 Std Dev: 1.9608887056755382\n",
      "Adjacency Spectrum Distance: Mean: 2.7198322369461225 Std Dev: 0.8552779275289724\n",
      "Spectral Norm of Adjacency Difference: Mean: 2.086264593417396 Std Dev: 0.6284507411012444\n",
      "Degree Distribution Distance: Mean: 1.4816537063911133 Std Dev: 0.7316251640677282\n",
      "Graphlet Kernel Distance: Mean: -46338.02333333333 Std Dev: 53918.43603798972\n",
      "Shortest Path Length Distribution Difference: Mean: 2.1894229715686047 Std Dev: 1.2317115049725367\n",
      "Comparison metrics for MUTAG\n",
      "\n"
     ]
    },
    {
     "name": "stderr",
     "output_type": "stream",
     "text": [
      "/Library/Frameworks/Python.framework/Versions/3.11/lib/python3.11/site-packages/torch_geometric/data/dataset.py:240: UserWarning: The `pre_transform` argument differs from the one used in the pre-processed version of this dataset. If you want to make use of another pre-processing technique, pass `force_reload=True` explicitly to reload the dataset.\n",
      "  warnings.warn(\n"
     ]
    },
    {
     "name": "stdout",
     "output_type": "stream",
     "text": [
      "Graph Edit Distance: Mean: 20.0 Std Dev: 0.0\n",
      "Jaccard Similarity: Mean: 0.48688704453515 Std Dev: 0.07430197472862302\n",
      "Laplacian Spectrum Distance: Mean: 10.148957901358457 Std Dev: 1.4283764278945141\n",
      "Adjacency Spectrum Distance: Mean: 3.2571504327977623 Std Dev: 0.5254615549689234\n",
      "Spectral Norm of Adjacency Difference: Mean: 2.8124667077007106 Std Dev: 0.5587458065950631\n",
      "Degree Distribution Distance: Mean: 2.391937043997543 Std Dev: 0.6515836091431447\n",
      "Graphlet Kernel Distance: Mean: -1966.8297872340424 Std Dev: 1565.3972178814608\n",
      "Shortest Path Length Distribution Difference: Mean: 1.688117305630879 Std Dev: 0.390638951265121\n",
      "Comparison metrics for PROTEINS\n",
      "\n",
      "Graph Edit Distance: Mean: 18.80053908355795 Std Dev: 4.056620787814343\n",
      "Jaccard Similarity: Mean: 0.7156529836445921 Std Dev: 0.13107047970179714\n",
      "Laplacian Spectrum Distance: Mean: 7.934569063545286 Std Dev: 2.9039981599511355\n",
      "Adjacency Spectrum Distance: Mean: 2.8761356549025328 Std Dev: 1.1992104332864657\n",
      "Spectral Norm of Adjacency Difference: Mean: 2.2029286107281183 Std Dev: 0.8742386493577501\n",
      "Degree Distribution Distance: Mean: 1.6575149075884552 Std Dev: 1.0545159988161539\n",
      "Graphlet Kernel Distance: Mean: -460515.3477088949 Std Dev: 10828111.132886438\n",
      "Shortest Path Length Distribution Difference: Mean: 2.3917750126385555 Std Dev: 1.8885627666290825\n"
     ]
    }
   ],
   "source": [
    "for name in datasets_small:\n",
    "    #IMDB-BINARY takes upwards of 137 minutes\n",
    "    if name==\"IMDB-BINARY\":\n",
    "        break\n",
    "    orig_dataset = TUDataset(root=\"./tmp/\", name=name)\n",
    "    rew_ds = rewired_small[name]\n",
    "\n",
    "    print(f\"Comparison metrics for {name}\\n\")\n",
    "    comparison_metrics(orig_dataset, rew_ds)"
   ]
  }
 ],
 "metadata": {
  "kernelspec": {
   "display_name": "CAM_venv",
   "language": "python",
   "name": "python3"
  },
  "language_info": {
   "codemirror_mode": {
    "name": "ipython",
    "version": 3
   },
   "file_extension": ".py",
   "mimetype": "text/x-python",
   "name": "python",
   "nbconvert_exporter": "python",
   "pygments_lexer": "ipython3",
   "version": "3.10.12"
  }
 },
 "nbformat": 4,
 "nbformat_minor": 2
}
